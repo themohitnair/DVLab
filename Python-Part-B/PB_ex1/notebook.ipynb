{
 "cells": [
  {
   "cell_type": "markdown",
   "metadata": {},
   "source": [
    "# Exercise 1\n",
    "\n",
    "Using Python, create your own having columns plant name, sunlight exposure, plant height and answer the following questions:\n",
    "1. Is there a relationship between the number of hours of sunlight exposure and the height of the plants?\n",
    "2. Visualize the relationship between sunlight exposure and plant height using a scatterplot.\n",
    "3. Calculate the correlation coefficient between sunlight exposure and plant height. Is the correlation positive or - negative? Is it strong or weak?\n",
    "4. Based on the correlation coefficient, can we conclude that there is a significant association between sunlight exposure and plant growth rate?"
   ]
  },
  {
   "cell_type": "code",
   "execution_count": 49,
   "metadata": {},
   "outputs": [],
   "source": [
    "import pandas as pd\n",
    "import matplotlib.pyplot as plt"
   ]
  },
  {
   "cell_type": "code",
   "execution_count": 50,
   "metadata": {},
   "outputs": [
    {
     "data": {
      "text/html": [
       "<div>\n",
       "<style scoped>\n",
       "    .dataframe tbody tr th:only-of-type {\n",
       "        vertical-align: middle;\n",
       "    }\n",
       "\n",
       "    .dataframe tbody tr th {\n",
       "        vertical-align: top;\n",
       "    }\n",
       "\n",
       "    .dataframe thead th {\n",
       "        text-align: right;\n",
       "    }\n",
       "</style>\n",
       "<table border=\"1\" class=\"dataframe\">\n",
       "  <thead>\n",
       "    <tr style=\"text-align: right;\">\n",
       "      <th></th>\n",
       "      <th>plant_name</th>\n",
       "      <th>sunlight_exposure</th>\n",
       "      <th>plant_height</th>\n",
       "    </tr>\n",
       "  </thead>\n",
       "  <tbody>\n",
       "    <tr>\n",
       "      <th>0</th>\n",
       "      <td>Tomato</td>\n",
       "      <td>20</td>\n",
       "      <td>67</td>\n",
       "    </tr>\n",
       "    <tr>\n",
       "      <th>1</th>\n",
       "      <td>Lemon</td>\n",
       "      <td>56</td>\n",
       "      <td>89</td>\n",
       "    </tr>\n",
       "    <tr>\n",
       "      <th>2</th>\n",
       "      <td>Capsicum</td>\n",
       "      <td>18</td>\n",
       "      <td>12</td>\n",
       "    </tr>\n",
       "    <tr>\n",
       "      <th>3</th>\n",
       "      <td>Mulberry</td>\n",
       "      <td>98</td>\n",
       "      <td>101</td>\n",
       "    </tr>\n",
       "    <tr>\n",
       "      <th>4</th>\n",
       "      <td>Persimmon</td>\n",
       "      <td>34</td>\n",
       "      <td>45</td>\n",
       "    </tr>\n",
       "  </tbody>\n",
       "</table>\n",
       "</div>"
      ],
      "text/plain": [
       "  plant_name  sunlight_exposure  plant_height\n",
       "0     Tomato                 20            67\n",
       "1      Lemon                 56            89\n",
       "2   Capsicum                 18            12\n",
       "3   Mulberry                 98           101\n",
       "4  Persimmon                 34            45"
      ]
     },
     "execution_count": 50,
     "metadata": {},
     "output_type": "execute_result"
    }
   ],
   "source": [
    "data = {\n",
    "    'plant_name': [\"Tomato\", \"Lemon\", \"Capsicum\", \"Mulberry\", \"Persimmon\", \"Passion Fruit\"],\n",
    "    'sunlight_exposure': [20, 56, 18, 98, 34, 95 ],\n",
    "    'plant_height': [67, 89, 12, 101, 45, 121]\n",
    "}\n",
    "\n",
    "df = pd.DataFrame(data)\n",
    "df.head()"
   ]
  },
  {
   "cell_type": "markdown",
   "metadata": {},
   "source": [
    "2. Visualize the relationship between sunlight exposure and plant height using a scatterplot."
   ]
  },
  {
   "cell_type": "code",
   "execution_count": 51,
   "metadata": {},
   "outputs": [
    {
     "data": {
      "text/plain": [
       "Text(0, 0.5, 'Height (cm)')"
      ]
     },
     "execution_count": 51,
     "metadata": {},
     "output_type": "execute_result"
    },
    {
     "data": {
      "image/png": "[encoded data removed]",
      "text/plain": [
       "<Figure size 640x480 with 1 Axes>"
      ]
     },
     "metadata": {},
     "output_type": "display_data"
    }
   ],
   "source": [
    "plt.scatter(df['sunlight_exposure'], df['plant_height'], color=\"r\")\n",
    "plt.title(\"Relationship between Sunlight Exposure and Plant Height\")\n",
    "plt.xlabel(\"Sunlight Exposure (hours)\")\n",
    "plt.ylabel(\"Height (cm)\")"
   ]
  },
  {
   "cell_type": "code",
   "execution_count": 52,
   "metadata": {},
   "outputs": [
    {
     "data": {
      "text/html": [
       "<div>\n",
       "<style scoped>\n",
       "    .dataframe tbody tr th:only-of-type {\n",
       "        vertical-align: middle;\n",
       "    }\n",
       "\n",
       "    .dataframe tbody tr th {\n",
       "        vertical-align: top;\n",
       "    }\n",
       "\n",
       "    .dataframe thead th {\n",
       "        text-align: right;\n",
       "    }\n",
       "</style>\n",
       "<table border=\"1\" class=\"dataframe\">\n",
       "  <thead>\n",
       "    <tr style=\"text-align: right;\">\n",
       "      <th></th>\n",
       "      <th>sunlight_exposure</th>\n",
       "      <th>plant_height</th>\n",
       "    </tr>\n",
       "  </thead>\n",
       "  <tbody>\n",
       "    <tr>\n",
       "      <th>sunlight_exposure</th>\n",
       "      <td>1.00000</td>\n",
       "      <td>0.86669</td>\n",
       "    </tr>\n",
       "    <tr>\n",
       "      <th>plant_height</th>\n",
       "      <td>0.86669</td>\n",
       "      <td>1.00000</td>\n",
       "    </tr>\n",
       "  </tbody>\n",
       "</table>\n",
       "</div>"
      ],
      "text/plain": [
       "                   sunlight_exposure  plant_height\n",
       "sunlight_exposure            1.00000       0.86669\n",
       "plant_height                 0.86669       1.00000"
      ]
     },
     "execution_count": 52,
     "metadata": {},
     "output_type": "execute_result"
    }
   ],
   "source": [
    "reduced_df = df[['sunlight_exposure', 'plant_height']]\n",
    "reduced_df.corr()"
   ]
  },
  {
   "cell_type": "markdown",
   "metadata": {},
   "source": [
    "3. Calculate the correlation coefficient between sunlight exposure and plant height. Is the correlation positive or - negative? Is it strong or weak?"
   ]
  },
  {
   "cell_type": "code",
   "execution_count": 53,
   "metadata": {},
   "outputs": [
    {
     "name": "stdout",
     "output_type": "stream",
     "text": [
      "Correlation co-efficient: 0.8666898574354881\n",
      "The correlation coefficient is positive.\n",
      "The correlation is strong.\n"
     ]
    }
   ],
   "source": [
    "corr_coeff = reduced_df['sunlight_exposure'].corr(df['plant_height'])\n",
    "print(f\"Correlation co-efficient: {corr_coeff}\")\n",
    "\n",
    "if corr_coeff < 0:\n",
    "    sign = \"negative\"\n",
    "elif corr_coeff > 0:\n",
    "    sign = \"positive\"\n",
    "else:\n",
    "    sign = \"neither\"\n",
    "print(f\"The correlation coefficient is {sign}.\")\n",
    "\n",
    "strength = \"strong\" if abs(corr_coeff) > 0.5 else \"weak\"\n",
    "print(f\"The correlation is {strength}.\")"
   ]
  },
  {
   "cell_type": "markdown",
   "metadata": {},
   "source": [
    "1. Is there a relationship between the number of hours of sunlight exposure and the height of the plants?"
   ]
  },
  {
   "cell_type": "code",
   "execution_count": 54,
   "metadata": {},
   "outputs": [
    {
     "name": "stdout",
     "output_type": "stream",
     "text": [
      "Yes, there is a strong positive linear relationship between Sunlight Exposure and Plant Height.\n"
     ]
    }
   ],
   "source": [
    "if abs(corr_coeff) > 0:\n",
    "    print(f\"Yes, there is a {strength} {sign} linear relationship between Sunlight Exposure and Plant Height.\")\n",
    "else:\n",
    "    print(\"There is no relationship between Sunlight Exposure and Plant Height.\")"
   ]
  },
  {
   "cell_type": "markdown",
   "metadata": {},
   "source": [
    "4. Based on the correlation coefficient, can we conclude that there is a significant association between sunlight exposure and plant growth rate?"
   ]
  },
  {
   "cell_type": "code",
   "execution_count": 55,
   "metadata": {},
   "outputs": [
    {
     "name": "stdout",
     "output_type": "stream",
     "text": [
      "Yes, we can conclude that there is significant association between Sunlight Exposure and Plant Height.\n"
     ]
    }
   ],
   "source": [
    "if strength == \"strong\":\n",
    "    print(\"Yes, we can conclude that there is significant association between Sunlight Exposure and Plant Height.\")\n",
    "elif strength == \"weak\":\n",
    "    print(\"The association between Sunlight Exposure and Plant Height is not significant.\")\n",
    "elif sign == \"neither\":\n",
    "    print(\"There is no association between Sunlight Exposure and Plant Height.\")"
   ]
  }
 ],
 "metadata": {
  "kernelspec": {
   "display_name": ".venv",
   "language": "python",
   "name": "python3"
  },
  "language_info": {
   "codemirror_mode": {
    "name": "ipython",
    "version": 3
   },
   "file_extension": ".py",
   "mimetype": "text/x-python",
   "name": "python",
   "nbconvert_exporter": "python",
   "pygments_lexer": "ipython3",
   "version": "3.13.1"
  }
 },
 "nbformat": 4,
 "nbformat_minor": 2
}
