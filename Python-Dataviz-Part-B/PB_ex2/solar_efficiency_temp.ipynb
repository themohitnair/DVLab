{
 "cells": [
  {
   "cell_type": "markdown",
   "metadata": {
    "id": "bd64_lhrvh2m"
   },
   "source": [
    "# DV Laboratory Part B - Exercise 2"
   ]
  },
  {
   "cell_type": "markdown",
   "metadata": {},
   "source": [
    "### In a solar panel efficiency study, researchers want to investigate the relationship between the temperature and the efficiency of solar panels. They collected data on the temperature (in Celsius) and the corresponding efficiency (in percentage) of solar panels over a period of time. The dataset contains measurements from 50 different days."
   ]
  },
  {
   "cell_type": "code",
   "execution_count": 21,
   "metadata": {
    "colab": {
     "base_uri": "https://localhost:8080/"
    },
    "executionInfo": {
     "elapsed": 3136,
     "status": "ok",
     "timestamp": 1730953189237,
     "user": {
      "displayName": "Mohit Nair",
      "userId": "03474214505901444169"
     },
     "user_tz": -330
    },
    "id": "eNWIpxYOvnOO",
    "outputId": "7bf0101b-b8da-4ba2-8591-2059bc42102a"
   },
   "outputs": [],
   "source": [
    "import matplotlib.pyplot as plt\n",
    "import pandas as pd\n",
    "from sklearn.model_selection import train_test_split\n",
    "from sklearn.linear_model import LinearRegression\n",
    "from sklearn.metrics import mean_squared_error, mean_absolute_error"
   ]
  },
  {
   "cell_type": "code",
   "execution_count": 22,
   "metadata": {
    "colab": {
     "base_uri": "https://localhost:8080/",
     "height": 206
    },
    "executionInfo": {
     "elapsed": 415,
     "status": "ok",
     "timestamp": 1730952865008,
     "user": {
      "displayName": "Mohit Nair",
      "userId": "03474214505901444169"
     },
     "user_tz": -330
    },
    "id": "TYfDGT5Xwy-O",
    "outputId": "ec917a39-eb34-4da6-c277-ef45eae4df60"
   },
   "outputs": [
    {
     "data": {
      "text/html": [
       "<div>\n",
       "<style scoped>\n",
       "    .dataframe tbody tr th:only-of-type {\n",
       "        vertical-align: middle;\n",
       "    }\n",
       "\n",
       "    .dataframe tbody tr th {\n",
       "        vertical-align: top;\n",
       "    }\n",
       "\n",
       "    .dataframe thead th {\n",
       "        text-align: right;\n",
       "    }\n",
       "</style>\n",
       "<table border=\"1\" class=\"dataframe\">\n",
       "  <thead>\n",
       "    <tr style=\"text-align: right;\">\n",
       "      <th></th>\n",
       "      <th>temperature</th>\n",
       "      <th>efficiency</th>\n",
       "    </tr>\n",
       "  </thead>\n",
       "  <tbody>\n",
       "    <tr>\n",
       "      <th>0</th>\n",
       "      <td>27.440675</td>\n",
       "      <td>65.188987</td>\n",
       "    </tr>\n",
       "    <tr>\n",
       "      <th>1</th>\n",
       "      <td>35.759468</td>\n",
       "      <td>87.633611</td>\n",
       "    </tr>\n",
       "    <tr>\n",
       "      <th>2</th>\n",
       "      <td>30.138169</td>\n",
       "      <td>72.520823</td>\n",
       "    </tr>\n",
       "    <tr>\n",
       "      <th>3</th>\n",
       "      <td>27.244159</td>\n",
       "      <td>71.431708</td>\n",
       "    </tr>\n",
       "    <tr>\n",
       "      <th>4</th>\n",
       "      <td>21.182740</td>\n",
       "      <td>64.327393</td>\n",
       "    </tr>\n",
       "  </tbody>\n",
       "</table>\n",
       "</div>"
      ],
      "text/plain": [
       "   temperature  efficiency\n",
       "0    27.440675   65.188987\n",
       "1    35.759468   87.633611\n",
       "2    30.138169   72.520823\n",
       "3    27.244159   71.431708\n",
       "4    21.182740   64.327393"
      ]
     },
     "execution_count": 22,
     "metadata": {},
     "output_type": "execute_result"
    }
   ],
   "source": [
    "df = pd.read_csv('solar_efficiency_temp.csv')\n",
    "df.head()"
   ]
  },
  {
   "cell_type": "code",
   "execution_count": 23,
   "metadata": {
    "id": "RRrhA3z81DrK"
   },
   "outputs": [],
   "source": [
    "X = df[['temperature']]\n",
    "Y = df['efficiency']\n",
    "X_train, X_test, Y_train, Y_test = train_test_split(X, Y, test_size=0.25, random_state=42)\n",
    "model = LinearRegression()\n",
    "m = model.fit(X_train, Y_train)"
   ]
  },
  {
   "cell_type": "code",
   "execution_count": 24,
   "metadata": {
    "colab": {
     "base_uri": "https://localhost:8080/",
     "height": 490
    },
    "executionInfo": {
     "elapsed": 927,
     "status": "ok",
     "timestamp": 1730953584907,
     "user": {
      "displayName": "Mohit Nair",
      "userId": "03474214505901444169"
     },
     "user_tz": -330
    },
    "id": "82MinP2I3ER3",
    "outputId": "82cb859b-8b7e-430e-9f1b-a1b708ee643a"
   },
   "outputs": [
    {
     "data": {
      "text/plain": [
       "Text(0, 0.5, 'Efficiency')"
      ]
     },
     "execution_count": 24,
     "metadata": {},
     "output_type": "execute_result"
    },
    {
     "data": {
      "image/png": "[encoded data removed]",
      "text/plain": [
       "<Figure size 640x480 with 1 Axes>"
      ]
     },
     "metadata": {},
     "output_type": "display_data"
    }
   ],
   "source": [
    "plt.scatter(X_train, Y_train, marker=\"o\", color=\"red\")\n",
    "plt.plot(X_train, m.predict(X_train), color=\"blue\")\n",
    "plt.title('Training Data (Solar panel Temperature vs Efficiency)')\n",
    "plt.xlabel('Temperature')\n",
    "plt.ylabel('Efficiency')"
   ]
  },
  {
   "cell_type": "code",
   "execution_count": 25,
   "metadata": {
    "colab": {
     "base_uri": "https://localhost:8080/",
     "height": 490
    },
    "executionInfo": {
     "elapsed": 514,
     "status": "ok",
     "timestamp": 1730953587542,
     "user": {
      "displayName": "Mohit Nair",
      "userId": "03474214505901444169"
     },
     "user_tz": -330
    },
    "id": "aayr0R0b3ejI",
    "outputId": "c2a54072-1f4b-4176-ba1e-6e55e51afdd5"
   },
   "outputs": [
    {
     "data": {
      "text/plain": [
       "Text(0, 0.5, 'Efficiency')"
      ]
     },
     "execution_count": 25,
     "metadata": {},
     "output_type": "execute_result"
    },
    {
     "data": {
      "image/png": "[encoded data removed]",
      "text/plain": [
       "<Figure size 640x480 with 1 Axes>"
      ]
     },
     "metadata": {},
     "output_type": "display_data"
    }
   ],
   "source": [
    "plt.scatter(X_test, Y_test, marker=\"o\", color=\"green\")\n",
    "plt.plot(X_train, m.predict(X_train), color=\"blue\")\n",
    "plt.title('Test Data (Solar panel Temperature vs Efficiency)')\n",
    "plt.xlabel('Temperature')\n",
    "plt.ylabel('Efficiency')"
   ]
  },
  {
   "cell_type": "markdown",
   "metadata": {},
   "source": [
    "a. Using Simple Linear Regression, can you develop a model to predict the efficiency\n",
    "of solar panels based on the temperature?"
   ]
  },
  {
   "cell_type": "code",
   "execution_count": 26,
   "metadata": {
    "executionInfo": {
     "elapsed": 875,
     "status": "ok",
     "timestamp": 1730953971310,
     "user": {
      "displayName": "Mohit Nair",
      "userId": "03474214505901444169"
     },
     "user_tz": -330
    },
    "id": "SPSz4uz632Dq"
   },
   "outputs": [],
   "source": [
    "Y_pred = model.predict(X_test)\n",
    "mse = mean_squared_error(Y_test, Y_pred)\n",
    "mae = mean_absolute_error(Y_test, Y_pred)"
   ]
  },
  {
   "cell_type": "code",
   "execution_count": 27,
   "metadata": {
    "colab": {
     "base_uri": "https://localhost:8080/"
    },
    "executionInfo": {
     "elapsed": 4,
     "status": "ok",
     "timestamp": 1730954000782,
     "user": {
      "displayName": "Mohit Nair",
      "userId": "03474214505901444169"
     },
     "user_tz": -330
    },
    "id": "VQT8fUZ25RG8",
    "outputId": "783e8d0f-e250-4beb-b8ae-256ac2a3c9a0"
   },
   "outputs": [
    {
     "name": "stdout",
     "output_type": "stream",
     "text": [
      "Mean Squared Error: 13.184913541739215\n",
      "Mean Absolute Error: 2.947701592379695\n"
     ]
    }
   ],
   "source": [
    "print(f\"Mean Squared Error: {mse}\")\n",
    "print(f\"Mean Absolute Error: {mae}\")"
   ]
  },
  {
   "cell_type": "markdown",
   "metadata": {},
   "source": [
    "b. Perform an F-test to determine whether temperature significantly predicts the efficiency of solar panels.\n",
    "c. Conduct a t-test to assess the significance of the regression coefficient for temperature."
   ]
  },
  {
   "cell_type": "code",
   "execution_count": 28,
   "metadata": {},
   "outputs": [],
   "source": [
    "import statsmodels.api as sm\n",
    "import pandas as pd\n",
    "\n",
    "X = df[['temperature']]\n",
    "Y = df['efficiency']\n",
    "\n",
    "X = sm.add_constant(X)\n",
    "model = sm.OLS(Y, X).fit()\n"
   ]
  },
  {
   "cell_type": "code",
   "execution_count": 29,
   "metadata": {},
   "outputs": [
    {
     "name": "stdout",
     "output_type": "stream",
     "text": [
      "F-statistic: 91.59\n",
      "t-statistic for temperature: 9.57\n"
     ]
    }
   ],
   "source": [
    "f_stat = model.fvalue\n",
    "f_p_value = model.f_pvalue\n",
    "\n",
    "t_stat = model.tvalues['temperature']\n",
    "t_p_value = model.pvalues['temperature']\n",
    "\n",
    "print(f\"F-statistic: {f_stat:.2f}\")\n",
    "print(f\"t-statistic for temperature: {t_stat:.2f}\")\n"
   ]
  }
 ],
 "metadata": {
  "colab": {
   "authorship_tag": "ABX9TyPoAc+5dZXISOrLj1n1Bqh3",
   "provenance": []
  },
  "kernelspec": {
   "display_name": ".venv",
   "language": "python",
   "name": "python3"
  },
  "language_info": {
   "codemirror_mode": {
    "name": "ipython",
    "version": 3
   },
   "file_extension": ".py",
   "mimetype": "text/x-python",
   "name": "python",
   "nbconvert_exporter": "python",
   "pygments_lexer": "ipython3",
   "version": "3.12.7"
  }
 },
 "nbformat": 4,
 "nbformat_minor": 0
}
