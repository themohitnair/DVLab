{
 "cells": [
  {
   "cell_type": "markdown",
   "metadata": {
    "id": "B9oqnt6M9jvX"
   },
   "source": [
    "# DV Laboratory Part B - Exercise 1"
   ]
  },
  {
   "cell_type": "markdown",
   "metadata": {
    "id": "RVaAqvII2ShY"
   },
   "source": [
    "### Using Python, create your own having columns plant name, sunlight exposure, plant height and answer the following questions:"
   ]
  },
  {
   "cell_type": "code",
   "execution_count": 1,
   "metadata": {
    "colab": {
     "base_uri": "https://localhost:8080/"
    },
    "executionInfo": {
     "elapsed": 4153,
     "status": "ok",
     "timestamp": 1729768570083,
     "user": {
      "displayName": "Mohit Nair",
      "userId": "03474214505901444169"
     },
     "user_tz": -330
    },
    "id": "pZbi5o_azVeJ",
    "outputId": "7250ecfb-102e-4a06-ab9f-2946859b5d92"
   },
   "outputs": [],
   "source": [
    "import matplotlib.pyplot as plt\n",
    "import pandas as pd"
   ]
  },
  {
   "cell_type": "code",
   "execution_count": 2,
   "metadata": {
    "colab": {
     "base_uri": "https://localhost:8080/",
     "height": 351
    },
    "executionInfo": {
     "elapsed": 57,
     "status": "ok",
     "timestamp": 1729768570085,
     "user": {
      "displayName": "Mohit Nair",
      "userId": "03474214505901444169"
     },
     "user_tz": -330
    },
    "id": "vJ84Dju1zbCP",
    "outputId": "b4c9ac68-2dd2-4bad-c5f2-acc9cb3c80ad"
   },
   "outputs": [
    {
     "data": {
      "text/html": [
       "<div>\n",
       "<style scoped>\n",
       "    .dataframe tbody tr th:only-of-type {\n",
       "        vertical-align: middle;\n",
       "    }\n",
       "\n",
       "    .dataframe tbody tr th {\n",
       "        vertical-align: top;\n",
       "    }\n",
       "\n",
       "    .dataframe thead th {\n",
       "        text-align: right;\n",
       "    }\n",
       "</style>\n",
       "<table border=\"1\" class=\"dataframe\">\n",
       "  <thead>\n",
       "    <tr style=\"text-align: right;\">\n",
       "      <th></th>\n",
       "      <th>plant_name</th>\n",
       "      <th>sunlight_exposure</th>\n",
       "      <th>plant_height</th>\n",
       "    </tr>\n",
       "  </thead>\n",
       "  <tbody>\n",
       "    <tr>\n",
       "      <th>0</th>\n",
       "      <td>Chlorophytum comosum</td>\n",
       "      <td>20</td>\n",
       "      <td>67</td>\n",
       "    </tr>\n",
       "    <tr>\n",
       "      <th>1</th>\n",
       "      <td>Epipremnum aureum</td>\n",
       "      <td>56</td>\n",
       "      <td>89</td>\n",
       "    </tr>\n",
       "    <tr>\n",
       "      <th>2</th>\n",
       "      <td>Aloe barbadensis miller</td>\n",
       "      <td>98</td>\n",
       "      <td>10</td>\n",
       "    </tr>\n",
       "    <tr>\n",
       "      <th>3</th>\n",
       "      <td>Spathiphyllum</td>\n",
       "      <td>32</td>\n",
       "      <td>73</td>\n",
       "    </tr>\n",
       "    <tr>\n",
       "      <th>4</th>\n",
       "      <td>Ficus elastica</td>\n",
       "      <td>18</td>\n",
       "      <td>90</td>\n",
       "    </tr>\n",
       "    <tr>\n",
       "      <th>5</th>\n",
       "      <td>Sansevieria trifasciata</td>\n",
       "      <td>28</td>\n",
       "      <td>90</td>\n",
       "    </tr>\n",
       "    <tr>\n",
       "      <th>6</th>\n",
       "      <td>Ficus lyrata</td>\n",
       "      <td>64</td>\n",
       "      <td>99</td>\n",
       "    </tr>\n",
       "    <tr>\n",
       "      <th>7</th>\n",
       "      <td>Calathea spp.</td>\n",
       "      <td>8</td>\n",
       "      <td>12</td>\n",
       "    </tr>\n",
       "    <tr>\n",
       "      <th>8</th>\n",
       "      <td>Hedera helix</td>\n",
       "      <td>78</td>\n",
       "      <td>43</td>\n",
       "    </tr>\n",
       "  </tbody>\n",
       "</table>\n",
       "</div>"
      ],
      "text/plain": [
       "                plant_name  sunlight_exposure  plant_height\n",
       "0     Chlorophytum comosum                 20            67\n",
       "1        Epipremnum aureum                 56            89\n",
       "2  Aloe barbadensis miller                 98            10\n",
       "3            Spathiphyllum                 32            73\n",
       "4           Ficus elastica                 18            90\n",
       "5  Sansevieria trifasciata                 28            90\n",
       "6             Ficus lyrata                 64            99\n",
       "7            Calathea spp.                  8            12\n",
       "8             Hedera helix                 78            43"
      ]
     },
     "execution_count": 2,
     "metadata": {},
     "output_type": "execute_result"
    }
   ],
   "source": [
    "df = pd.read_csv('plants.csv')\n",
    "df"
   ]
  },
  {
   "cell_type": "code",
   "execution_count": 3,
   "metadata": {
    "colab": {
     "base_uri": "https://localhost:8080/",
     "height": 226
    },
    "executionInfo": {
     "elapsed": 51,
     "status": "ok",
     "timestamp": 1729768570085,
     "user": {
      "displayName": "Mohit Nair",
      "userId": "03474214505901444169"
     },
     "user_tz": -330
    },
    "id": "xv83qedFzcjO",
    "outputId": "6c5b71e8-3353-4b06-d17b-568e76532868"
   },
   "outputs": [
    {
     "data": {
      "text/html": [
       "<div>\n",
       "<style scoped>\n",
       "    .dataframe tbody tr th:only-of-type {\n",
       "        vertical-align: middle;\n",
       "    }\n",
       "\n",
       "    .dataframe tbody tr th {\n",
       "        vertical-align: top;\n",
       "    }\n",
       "\n",
       "    .dataframe thead th {\n",
       "        text-align: right;\n",
       "    }\n",
       "</style>\n",
       "<table border=\"1\" class=\"dataframe\">\n",
       "  <thead>\n",
       "    <tr style=\"text-align: right;\">\n",
       "      <th></th>\n",
       "      <th>sunlight_exposure</th>\n",
       "      <th>plant_height</th>\n",
       "    </tr>\n",
       "  </thead>\n",
       "  <tbody>\n",
       "    <tr>\n",
       "      <th>0</th>\n",
       "      <td>20</td>\n",
       "      <td>67</td>\n",
       "    </tr>\n",
       "    <tr>\n",
       "      <th>1</th>\n",
       "      <td>56</td>\n",
       "      <td>89</td>\n",
       "    </tr>\n",
       "    <tr>\n",
       "      <th>2</th>\n",
       "      <td>98</td>\n",
       "      <td>10</td>\n",
       "    </tr>\n",
       "    <tr>\n",
       "      <th>3</th>\n",
       "      <td>32</td>\n",
       "      <td>73</td>\n",
       "    </tr>\n",
       "    <tr>\n",
       "      <th>4</th>\n",
       "      <td>18</td>\n",
       "      <td>90</td>\n",
       "    </tr>\n",
       "  </tbody>\n",
       "</table>\n",
       "</div>"
      ],
      "text/plain": [
       "   sunlight_exposure  plant_height\n",
       "0                 20            67\n",
       "1                 56            89\n",
       "2                 98            10\n",
       "3                 32            73\n",
       "4                 18            90"
      ]
     },
     "execution_count": 3,
     "metadata": {},
     "output_type": "execute_result"
    }
   ],
   "source": [
    "df = df[['sunlight_exposure', 'plant_height']]\n",
    "df.head()"
   ]
  },
  {
   "cell_type": "markdown",
   "metadata": {
    "id": "RvIyDZsz39Oo"
   },
   "source": [
    "II. Visualize the relationship between sunlight exposure and plant height using a scatterplot."
   ]
  },
  {
   "cell_type": "code",
   "execution_count": 4,
   "metadata": {
    "colab": {
     "base_uri": "https://localhost:8080/",
     "height": 492
    },
    "executionInfo": {
     "elapsed": 47,
     "status": "ok",
     "timestamp": 1729768570086,
     "user": {
      "displayName": "Mohit Nair",
      "userId": "03474214505901444169"
     },
     "user_tz": -330
    },
    "id": "sdvH-un-3Jix",
    "outputId": "a8c465f8-bce5-4719-c87d-c26660442b06"
   },
   "outputs": [
    {
     "data": {
      "image/png": "[encoded data removed]",
      "text/plain": [
       "<Figure size 640x480 with 1 Axes>"
      ]
     },
     "metadata": {},
     "output_type": "display_data"
    }
   ],
   "source": [
    "plt.figure(dpi=100)\n",
    "plt.scatter(df['sunlight_exposure'], df['plant_height'], color=\"black\", marker=\"*\")\n",
    "plt.title('Relationship between sunlight exposure and plant height')\n",
    "plt.xlabel('Sunlight Exposure')\n",
    "plt.ylabel('Plant Height')\n",
    "plt.grid(True)\n",
    "plt.show()"
   ]
  },
  {
   "cell_type": "markdown",
   "metadata": {
    "id": "LUFSwbAJ4dCm"
   },
   "source": [
    "III. Calculate the correlation coefficient between sunlight exposure and plant height. Is the correlation positive or negative? Is it strong or weak?"
   ]
  },
  {
   "cell_type": "code",
   "execution_count": 5,
   "metadata": {
    "colab": {
     "base_uri": "https://localhost:8080/"
    },
    "executionInfo": {
     "elapsed": 41,
     "status": "ok",
     "timestamp": 1729768570086,
     "user": {
      "displayName": "Mohit Nair",
      "userId": "03474214505901444169"
     },
     "user_tz": -330
    },
    "id": "O29D2tSj4Koa",
    "outputId": "269cdafb-7ad1-4b96-b2e9-0b5540a30916"
   },
   "outputs": [
    {
     "name": "stdout",
     "output_type": "stream",
     "text": [
      "Correlation between sunlight exposure and plant height: -0.2411875043974829\n"
     ]
    }
   ],
   "source": [
    "correlation = df['sunlight_exposure'].corr(df['plant_height'])\n",
    "print(f\"Correlation between sunlight exposure and plant height: {correlation}\")"
   ]
  },
  {
   "cell_type": "markdown",
   "metadata": {
    "id": "2Rx7rZTX5eTv"
   },
   "source": [
    "IV. Based on the correlation coefficient, can we conclude that there is a significant association between sunlight exposure and plant growth rate?"
   ]
  },
  {
   "cell_type": "code",
   "execution_count": 6,
   "metadata": {
    "colab": {
     "base_uri": "https://localhost:8080/"
    },
    "executionInfo": {
     "elapsed": 33,
     "status": "ok",
     "timestamp": 1729768570086,
     "user": {
      "displayName": "Mohit Nair",
      "userId": "03474214505901444169"
     },
     "user_tz": -330
    },
    "id": "oS00bCGT4ahS",
    "outputId": "a5167142-4f0c-4bff-b7cb-0d2b8dd5d142"
   },
   "outputs": [
    {
     "name": "stdout",
     "output_type": "stream",
     "text": [
      "There is no significant association between sunlight exposure and plant growth rate.\n"
     ]
    }
   ],
   "source": [
    "threshold = 0.7\n",
    "if abs(correlation) >= threshold:\n",
    "    print(\"There is a significant association between sunlight exposure and plant growth rate.\")\n",
    "else:\n",
    "    print(\"There is no significant association between sunlight exposure and plant growth rate.\")"
   ]
  },
  {
   "cell_type": "markdown",
   "metadata": {
    "id": "XCZQ3kL35q-3"
   },
   "source": [
    "I. Is there a relationship between the number of hours of sunlight exposure and the height of the plants?"
   ]
  },
  {
   "cell_type": "markdown",
   "metadata": {
    "id": "DDjQvZzo6H_u"
   },
   "source": [
    "No, based on the correlation coefficient, it is conclusive that there is no correlation between the number of hours of sunlight exposure and the plant height."
   ]
  }
 ],
 "metadata": {
  "colab": {
   "authorship_tag": "ABX9TyPTmTWrKEWix5iJYp2uZaDZ",
   "mount_file_id": "133R-V99P0lgeiFWMnqpDcWzrFqHvrrS3",
   "provenance": []
  },
  "kernelspec": {
   "display_name": ".venv",
   "language": "python",
   "name": "python3"
  },
  "language_info": {
   "codemirror_mode": {
    "name": "ipython",
    "version": 3
   },
   "file_extension": ".py",
   "mimetype": "text/x-python",
   "name": "python",
   "nbconvert_exporter": "python",
   "pygments_lexer": "ipython3",
   "version": "3.13.1"
  }
 },
 "nbformat": 4,
 "nbformat_minor": 0
}
