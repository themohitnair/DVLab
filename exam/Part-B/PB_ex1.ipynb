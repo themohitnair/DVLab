{
 "cells": [
  {
   "cell_type": "code",
   "execution_count": 90,
   "id": "4d306663-7be1-4982-9cb9-a9b8dd5f53df",
   "metadata": {},
   "outputs": [],
   "source": [
    "%config IPCompleter.greedy=True"
   ]
  },
  {
   "cell_type": "markdown",
   "id": "b83a56df-03e3-4f0f-8630-ee5f9abb0df8",
   "metadata": {},
   "source": [
    "Using Python, create your own having columns plant name, sunlight exposure, plant height and answer the following questions:\n",
    "- Is there a relationship between the number of hours of sunlight exposure and the height of the plants?\n",
    "- Visualize the relationship between sunlight exposure and plant height using a scatterplot.\n",
    "- Calculate the correlation coefficient between sunlight exposure and plant height. Is the correlation positive or negative? Is it strong or weak?\n",
    "- Based on the correlation coefficient, can we conclude that there is a significant association between sunlight exposure and plant growth rate?"
   ]
  },
  {
   "cell_type": "code",
   "execution_count": 79,
   "id": "197bcdf2-b2d2-44e8-9be4-83374d852fa8",
   "metadata": {},
   "outputs": [],
   "source": [
    "import pandas as pd\n",
    "import matplotlib.pyplot as plt"
   ]
  },
  {
   "cell_type": "code",
   "execution_count": 80,
   "id": "2d4b36d1-23c9-4b06-b76d-d528575dd9fb",
   "metadata": {},
   "outputs": [],
   "source": [
    "plant_sunlight_data = {\n",
    "    \"name\": [\"pomegranate\", \"guava\", \"persimmon\", \"passionfruit\", \"apple\", \"pea\", \"maize\", \"cotton\", \"peepal\", \"basil\"],\n",
    "    \"exposure\": [85, 60, 65, 90, 63, 32, 68, 101, 22, 49],\n",
    "    \"height\": [12, 9, 8, 12, 7, 4, 9, 10, 3, 9]\n",
    "}"
   ]
  },
  {
   "cell_type": "code",
   "execution_count": 81,
   "id": "48316d59-2188-4e5a-8a5b-05ea51dea19e",
   "metadata": {},
   "outputs": [
    {
     "data": {
      "text/html": [
       "<div>\n",
       "<style scoped>\n",
       "    .dataframe tbody tr th:only-of-type {\n",
       "        vertical-align: middle;\n",
       "    }\n",
       "\n",
       "    .dataframe tbody tr th {\n",
       "        vertical-align: top;\n",
       "    }\n",
       "\n",
       "    .dataframe thead th {\n",
       "        text-align: right;\n",
       "    }\n",
       "</style>\n",
       "<table border=\"1\" class=\"dataframe\">\n",
       "  <thead>\n",
       "    <tr style=\"text-align: right;\">\n",
       "      <th></th>\n",
       "      <th>name</th>\n",
       "      <th>exposure</th>\n",
       "      <th>height</th>\n",
       "    </tr>\n",
       "  </thead>\n",
       "  <tbody>\n",
       "    <tr>\n",
       "      <th>0</th>\n",
       "      <td>pomegranate</td>\n",
       "      <td>85</td>\n",
       "      <td>12</td>\n",
       "    </tr>\n",
       "    <tr>\n",
       "      <th>1</th>\n",
       "      <td>guava</td>\n",
       "      <td>60</td>\n",
       "      <td>9</td>\n",
       "    </tr>\n",
       "    <tr>\n",
       "      <th>2</th>\n",
       "      <td>persimmon</td>\n",
       "      <td>65</td>\n",
       "      <td>8</td>\n",
       "    </tr>\n",
       "    <tr>\n",
       "      <th>3</th>\n",
       "      <td>passionfruit</td>\n",
       "      <td>90</td>\n",
       "      <td>12</td>\n",
       "    </tr>\n",
       "    <tr>\n",
       "      <th>4</th>\n",
       "      <td>apple</td>\n",
       "      <td>63</td>\n",
       "      <td>7</td>\n",
       "    </tr>\n",
       "    <tr>\n",
       "      <th>5</th>\n",
       "      <td>pea</td>\n",
       "      <td>32</td>\n",
       "      <td>4</td>\n",
       "    </tr>\n",
       "    <tr>\n",
       "      <th>6</th>\n",
       "      <td>maize</td>\n",
       "      <td>68</td>\n",
       "      <td>9</td>\n",
       "    </tr>\n",
       "    <tr>\n",
       "      <th>7</th>\n",
       "      <td>cotton</td>\n",
       "      <td>101</td>\n",
       "      <td>10</td>\n",
       "    </tr>\n",
       "    <tr>\n",
       "      <th>8</th>\n",
       "      <td>peepal</td>\n",
       "      <td>22</td>\n",
       "      <td>3</td>\n",
       "    </tr>\n",
       "    <tr>\n",
       "      <th>9</th>\n",
       "      <td>basil</td>\n",
       "      <td>49</td>\n",
       "      <td>9</td>\n",
       "    </tr>\n",
       "  </tbody>\n",
       "</table>\n",
       "</div>"
      ],
      "text/plain": [
       "           name  exposure  height\n",
       "0   pomegranate        85      12\n",
       "1         guava        60       9\n",
       "2     persimmon        65       8\n",
       "3  passionfruit        90      12\n",
       "4         apple        63       7\n",
       "5           pea        32       4\n",
       "6         maize        68       9\n",
       "7        cotton       101      10\n",
       "8        peepal        22       3\n",
       "9         basil        49       9"
      ]
     },
     "execution_count": 81,
     "metadata": {},
     "output_type": "execute_result"
    }
   ],
   "source": [
    "df = pd.DataFrame(plant_sunlight_data)\n",
    "df"
   ]
  },
  {
   "cell_type": "code",
   "execution_count": 82,
   "id": "b7672938-42be-4f31-b770-a44cdb09cc00",
   "metadata": {},
   "outputs": [
    {
     "data": {
      "text/html": [
       "<div>\n",
       "<style scoped>\n",
       "    .dataframe tbody tr th:only-of-type {\n",
       "        vertical-align: middle;\n",
       "    }\n",
       "\n",
       "    .dataframe tbody tr th {\n",
       "        vertical-align: top;\n",
       "    }\n",
       "\n",
       "    .dataframe thead th {\n",
       "        text-align: right;\n",
       "    }\n",
       "</style>\n",
       "<table border=\"1\" class=\"dataframe\">\n",
       "  <thead>\n",
       "    <tr style=\"text-align: right;\">\n",
       "      <th></th>\n",
       "      <th>exposure</th>\n",
       "      <th>height</th>\n",
       "    </tr>\n",
       "  </thead>\n",
       "  <tbody>\n",
       "    <tr>\n",
       "      <th>0</th>\n",
       "      <td>85</td>\n",
       "      <td>12</td>\n",
       "    </tr>\n",
       "    <tr>\n",
       "      <th>1</th>\n",
       "      <td>60</td>\n",
       "      <td>9</td>\n",
       "    </tr>\n",
       "    <tr>\n",
       "      <th>2</th>\n",
       "      <td>65</td>\n",
       "      <td>8</td>\n",
       "    </tr>\n",
       "    <tr>\n",
       "      <th>3</th>\n",
       "      <td>90</td>\n",
       "      <td>12</td>\n",
       "    </tr>\n",
       "    <tr>\n",
       "      <th>4</th>\n",
       "      <td>63</td>\n",
       "      <td>7</td>\n",
       "    </tr>\n",
       "    <tr>\n",
       "      <th>5</th>\n",
       "      <td>32</td>\n",
       "      <td>4</td>\n",
       "    </tr>\n",
       "    <tr>\n",
       "      <th>6</th>\n",
       "      <td>68</td>\n",
       "      <td>9</td>\n",
       "    </tr>\n",
       "    <tr>\n",
       "      <th>7</th>\n",
       "      <td>101</td>\n",
       "      <td>10</td>\n",
       "    </tr>\n",
       "    <tr>\n",
       "      <th>8</th>\n",
       "      <td>22</td>\n",
       "      <td>3</td>\n",
       "    </tr>\n",
       "    <tr>\n",
       "      <th>9</th>\n",
       "      <td>49</td>\n",
       "      <td>9</td>\n",
       "    </tr>\n",
       "  </tbody>\n",
       "</table>\n",
       "</div>"
      ],
      "text/plain": [
       "   exposure  height\n",
       "0        85      12\n",
       "1        60       9\n",
       "2        65       8\n",
       "3        90      12\n",
       "4        63       7\n",
       "5        32       4\n",
       "6        68       9\n",
       "7       101      10\n",
       "8        22       3\n",
       "9        49       9"
      ]
     },
     "execution_count": 82,
     "metadata": {},
     "output_type": "execute_result"
    }
   ],
   "source": [
    "r_df = df[[\"exposure\", \"height\"]]\n",
    "r_df"
   ]
  },
  {
   "cell_type": "code",
   "execution_count": 83,
   "id": "bc327cb4-5cc6-48a0-982f-a4294be7e65a",
   "metadata": {},
   "outputs": [],
   "source": [
    "corr_coeff = r_df[\"exposure\"].corr(r_df[\"height\"])"
   ]
  },
  {
   "cell_type": "code",
   "execution_count": 84,
   "id": "ff344245-4565-4de8-9a25-1a4e8f81819b",
   "metadata": {},
   "outputs": [
    {
     "name": "stdout",
     "output_type": "stream",
     "text": [
      "There is a relationship between the Hours of Sunlight Exposure and the height of the plant.\n"
     ]
    }
   ],
   "source": [
    "if corr_coeff > 0.4:\n",
    "    print(\"There is a relationship between the Hours of Sunlight Exposure and the height of the plant.\")\n",
    "else:\n",
    "    print(\"There is no sign of a relationship between the Hours of Sunlight Exposure and the height of the plant.\")"
   ]
  },
  {
   "cell_type": "code",
   "execution_count": 85,
   "id": "54980bf4-1a86-480c-9b2c-f82143199f5a",
   "metadata": {},
   "outputs": [
    {
     "data": {
      "text/plain": [
       "<matplotlib.legend.Legend at 0x77b5e4223610>"
      ]
     },
     "execution_count": 85,
     "metadata": {},
     "output_type": "execute_result"
    },
    {
     "data": {
      "image/png": "[encoded data removed]",
      "text/plain": [
       "<Figure size 640x480 with 1 Axes>"
      ]
     },
     "metadata": {},
     "output_type": "display_data"
    }
   ],
   "source": [
    "plt.title(\"Hours of Sunlight Exposure and the Height of the plant (Scatter plot)\")\n",
    "plt.xlabel(\"Plant Height (in cm)\")\n",
    "plt.ylabel(\"Sunlight Exposure (in hours)\")\n",
    "plt.grid()\n",
    "plt.scatter(r_df[\"exposure\"], r_df[\"height\"], color=\"b\", marker=\"d\", label=\"Data Point\")\n",
    "plt.legend()"
   ]
  },
  {
   "cell_type": "code",
   "execution_count": 86,
   "id": "804dc92f-4290-41f2-9fed-fa86e47ffedf",
   "metadata": {},
   "outputs": [],
   "source": [
    "if corr_coeff < 0:\n",
    "    sign = \"negative\"\n",
    "elif corr_coeff > 0:\n",
    "    sign = \"positive\"\n",
    "else:\n",
    "    sign = \"none\""
   ]
  },
  {
   "cell_type": "code",
   "execution_count": 87,
   "id": "262ef6fb-ae81-4ad6-a544-1a3818909ad1",
   "metadata": {},
   "outputs": [],
   "source": [
    "if abs(corr_coeff) >= 0.85:\n",
    "    strength = \"very strong\"\n",
    "elif abs(corr_coeff) < 0.85 and abs(corr_coeff) >= 0.5:\n",
    "    strength = \"fairly strong\"\n",
    "else:\n",
    "    strength = \"weak\""
   ]
  },
  {
   "cell_type": "code",
   "execution_count": 89,
   "id": "664f3706-4bbe-49f6-821e-fae9e4b2c5b0",
   "metadata": {},
   "outputs": [
    {
     "name": "stdout",
     "output_type": "stream",
     "text": [
      "The correlation coefficient is 0.8826924553887492, and the correlation is positive and very strong in nature.\n",
      "From the correlation coefficient, we can deduce that there is a significant association between the parameters: Sunlight Exposure (in hours) and Plant Height (in cm).\n"
     ]
    }
   ],
   "source": [
    "print(f\"The correlation coefficient is {corr_coeff}, and the correlation is {sign} and {strength} in nature.\")\n",
    "if sign == \"positive\" and strength == \"very strong\":\n",
    "    print(\"From the correlation coefficient, we can deduce that there is a significant association between the parameters: Sunlight Exposure (in hours) and Plant Height (in cm).\")"
   ]
  }
 ],
 "metadata": {
  "kernelspec": {
   "display_name": "Python 3 (ipykernel)",
   "language": "python",
   "name": "python3"
  },
  "language_info": {
   "codemirror_mode": {
    "name": "ipython",
    "version": 3
   },
   "file_extension": ".py",
   "mimetype": "text/x-python",
   "name": "python",
   "nbconvert_exporter": "python",
   "pygments_lexer": "ipython3",
   "version": "3.13.1"
  }
 },
 "nbformat": 4,
 "nbformat_minor": 5
}
